{
 "cells": [
  {
   "cell_type": "code",
   "execution_count": 12,
   "metadata": {},
   "outputs": [],
   "source": [
    "import os\n",
    "\n",
    "os.environ['JAVA_HOME'] = \"C:/Program Files/Java/jdk-11\"\n",
    "os.environ['PYSPARK_PYTHON'] = \"C:/Users/usr/anaconda3/envs/pyspark_env/python.exe\"\n",
    "os.environ['PYSPARK_DRIVER_PYTHON'] = \"C:/Users/usr/anaconda3/envs/pyspark_env/python.exe\"\n",
    "os.environ['HADOOP_HOME'] = \"C:/hadoop-3.4.0\"\n",
    "os.environ['HADOOP_COMMON_LIB_NATIVE_DIR'] = \"C:/hadoop-3.4.0/lib/native\"\n",
    "os.environ['PATH'] += os.pathsep + \"C:/hadoop-3.4.0/bin\"\n",
    "\n",
    "import findspark\n",
    "findspark.init()\n",
    "\n",
    "from pyspark.sql import SparkSession\n",
    "\n",
    "spark = SparkSession.builder.getOrCreate()\n",
    "\n",
    "sc = spark.sparkContext"
   ]
  },
  {
   "cell_type": "markdown",
   "metadata": {},
   "source": [
    "- Cree un RDD llamado importes a partir del archivo adjunto a esta lección como recurso."
   ]
  },
  {
   "cell_type": "code",
   "execution_count": 13,
   "metadata": {},
   "outputs": [
    {
     "data": {
      "text/plain": [
       "['70',\n",
       " '69',\n",
       " '16',\n",
       " '80',\n",
       " '85',\n",
       " '81',\n",
       " '93',\n",
       " '5',\n",
       " '78',\n",
       " '21',\n",
       " '13',\n",
       " '77',\n",
       " '93',\n",
       " '31',\n",
       " '16',\n",
       " '84',\n",
       " '64',\n",
       " '29',\n",
       " '45',\n",
       " '24',\n",
       " '64',\n",
       " '31',\n",
       " '2',\n",
       " '55',\n",
       " '51',\n",
       " '92',\n",
       " '72',\n",
       " '84',\n",
       " '22',\n",
       " '50',\n",
       " '17',\n",
       " '5',\n",
       " '96',\n",
       " '63',\n",
       " '67',\n",
       " '82',\n",
       " '52',\n",
       " '38',\n",
       " '86',\n",
       " '23',\n",
       " '90',\n",
       " '96',\n",
       " '53',\n",
       " '95',\n",
       " '10',\n",
       " '28',\n",
       " '75',\n",
       " '72',\n",
       " '67',\n",
       " '82',\n",
       " '40',\n",
       " '60',\n",
       " '34',\n",
       " '26',\n",
       " '47',\n",
       " '55',\n",
       " '10',\n",
       " '46',\n",
       " '86',\n",
       " '46',\n",
       " '64',\n",
       " '37',\n",
       " '31',\n",
       " '43',\n",
       " '74',\n",
       " '44',\n",
       " '87',\n",
       " '7',\n",
       " '54',\n",
       " '95',\n",
       " '43',\n",
       " '79',\n",
       " '79',\n",
       " '53',\n",
       " '62',\n",
       " '13',\n",
       " '37',\n",
       " '45',\n",
       " '40',\n",
       " '81',\n",
       " '50',\n",
       " '41',\n",
       " '30',\n",
       " '81',\n",
       " '27',\n",
       " '27',\n",
       " '49',\n",
       " '97',\n",
       " '73',\n",
       " '99',\n",
       " '77',\n",
       " '64',\n",
       " '47',\n",
       " '68',\n",
       " '8',\n",
       " '79',\n",
       " '13',\n",
       " '49',\n",
       " '75',\n",
       " '2',\n",
       " '23',\n",
       " '94',\n",
       " '21',\n",
       " '2',\n",
       " '10',\n",
       " '9',\n",
       " '19',\n",
       " '75',\n",
       " '7',\n",
       " '27',\n",
       " '55',\n",
       " '38',\n",
       " '10',\n",
       " '39',\n",
       " '73',\n",
       " '21',\n",
       " '81',\n",
       " '1',\n",
       " '61',\n",
       " '62',\n",
       " '5',\n",
       " '91',\n",
       " '68',\n",
       " '35',\n",
       " '81',\n",
       " '91',\n",
       " '34',\n",
       " '24',\n",
       " '63',\n",
       " '61',\n",
       " '32',\n",
       " '11',\n",
       " '74',\n",
       " '43',\n",
       " '98',\n",
       " '18',\n",
       " '25',\n",
       " '33',\n",
       " '31',\n",
       " '32',\n",
       " '42',\n",
       " '97',\n",
       " '11',\n",
       " '28',\n",
       " '14',\n",
       " '49',\n",
       " '34',\n",
       " '78',\n",
       " '50',\n",
       " '76',\n",
       " '25',\n",
       " '79',\n",
       " '61',\n",
       " '15',\n",
       " '57',\n",
       " '60',\n",
       " '61',\n",
       " '52',\n",
       " '94',\n",
       " '32',\n",
       " '30',\n",
       " '71',\n",
       " '16',\n",
       " '32',\n",
       " '26',\n",
       " '30',\n",
       " '42',\n",
       " '36',\n",
       " '45',\n",
       " '1',\n",
       " '91',\n",
       " '47',\n",
       " '19',\n",
       " '43',\n",
       " '71',\n",
       " '41',\n",
       " '95',\n",
       " '12',\n",
       " '64',\n",
       " '95',\n",
       " '51',\n",
       " '39',\n",
       " '55',\n",
       " '99',\n",
       " '12',\n",
       " '98',\n",
       " '97',\n",
       " '37',\n",
       " '25',\n",
       " '45',\n",
       " '36',\n",
       " '13',\n",
       " '63',\n",
       " '81',\n",
       " '16',\n",
       " '56',\n",
       " '33',\n",
       " '61',\n",
       " '31',\n",
       " '39',\n",
       " '84',\n",
       " '30',\n",
       " '97',\n",
       " '37',\n",
       " '29',\n",
       " '94',\n",
       " '76',\n",
       " '39',\n",
       " '62',\n",
       " '12',\n",
       " '97',\n",
       " '90',\n",
       " '50',\n",
       " '85',\n",
       " '25',\n",
       " '28',\n",
       " '35',\n",
       " '63',\n",
       " '25',\n",
       " '56',\n",
       " '43',\n",
       " '18',\n",
       " '57',\n",
       " '20',\n",
       " '62',\n",
       " '51',\n",
       " '63',\n",
       " '27',\n",
       " '82',\n",
       " '71',\n",
       " '24',\n",
       " '7',\n",
       " '70']"
      ]
     },
     "execution_count": 13,
     "metadata": {},
     "output_type": "execute_result"
    }
   ],
   "source": [
    "rdd_importes = sc.textFile('./data/num.txt')\n",
    "\n",
    "rdd_importes.collect()"
   ]
  },
  {
   "cell_type": "markdown",
   "metadata": {},
   "source": [
    "- ¿Cuántos registros tiene el RDD importes?"
   ]
  },
  {
   "cell_type": "code",
   "execution_count": 14,
   "metadata": {},
   "outputs": [
    {
     "data": {
      "text/plain": [
       "233"
      ]
     },
     "execution_count": 14,
     "metadata": {},
     "output_type": "execute_result"
    }
   ],
   "source": [
    "rdd_importes.count()"
   ]
  },
  {
   "cell_type": "markdown",
   "metadata": {},
   "source": [
    "- ¿Cuál es el valor mínimo y máximo del RDD importes?"
   ]
  },
  {
   "cell_type": "code",
   "execution_count": 15,
   "metadata": {},
   "outputs": [
    {
     "data": {
      "text/plain": [
       "'1'"
      ]
     },
     "execution_count": 15,
     "metadata": {},
     "output_type": "execute_result"
    }
   ],
   "source": [
    "rdd_importes.min()"
   ]
  },
  {
   "cell_type": "code",
   "execution_count": 16,
   "metadata": {},
   "outputs": [
    {
     "data": {
      "text/plain": [
       "'99'"
      ]
     },
     "execution_count": 16,
     "metadata": {},
     "output_type": "execute_result"
    }
   ],
   "source": [
    "rdd_importes.max()"
   ]
  },
  {
   "cell_type": "markdown",
   "metadata": {},
   "source": [
    "- Cree un RDD top15 que contenga los 15 mayores valores del RDD importes. Tenga en cuenta que pueden repetirse los valores. Por último, escriba el RDD top15 como archivo de texto en la carpeta data/salida."
   ]
  },
  {
   "cell_type": "code",
   "execution_count": 17,
   "metadata": {},
   "outputs": [],
   "source": [
    "lista_top15 = rdd_importes.top(15) # Primero creamos una lista."
   ]
  },
  {
   "cell_type": "code",
   "execution_count": 18,
   "metadata": {},
   "outputs": [
    {
     "data": {
      "text/plain": [
       "['99',\n",
       " '99',\n",
       " '98',\n",
       " '98',\n",
       " '97',\n",
       " '97',\n",
       " '97',\n",
       " '97',\n",
       " '97',\n",
       " '96',\n",
       " '96',\n",
       " '95',\n",
       " '95',\n",
       " '95',\n",
       " '95']"
      ]
     },
     "execution_count": 18,
     "metadata": {},
     "output_type": "execute_result"
    }
   ],
   "source": [
    "lista_top15"
   ]
  },
  {
   "cell_type": "code",
   "execution_count": 19,
   "metadata": {},
   "outputs": [
    {
     "data": {
      "text/plain": [
       "['99',\n",
       " '99',\n",
       " '98',\n",
       " '98',\n",
       " '97',\n",
       " '97',\n",
       " '97',\n",
       " '97',\n",
       " '97',\n",
       " '96',\n",
       " '96',\n",
       " '95',\n",
       " '95',\n",
       " '95',\n",
       " '95']"
      ]
     },
     "execution_count": 19,
     "metadata": {},
     "output_type": "execute_result"
    }
   ],
   "source": [
    "rdd_top15 = sc.parallelize(lista_top15) # Luego creamos un RDD a partir de la lista.\n",
    "\n",
    "rdd_top15.collect()"
   ]
  },
  {
   "cell_type": "code",
   "execution_count": null,
   "metadata": {},
   "outputs": [],
   "source": [
    "rdd_top15.saveAsTextFile('./data/salida')"
   ]
  },
  {
   "cell_type": "markdown",
   "metadata": {},
   "source": [
    "- Cree una función llamada factorial que calcule el factorial de un número dado como parámetro. Utilice RDDs para el cálculo."
   ]
  },
  {
   "cell_type": "code",
   "execution_count": 21,
   "metadata": {},
   "outputs": [],
   "source": [
    "def factorial(x):\n",
    "    if x == 0:\n",
    "        return 1\n",
    "    else:\n",
    "        rdd = sc.parallelize(list(range(1, x + 1))) # Creamos un RDD de 1 a x.\n",
    "        return rdd.reduce(lambda x, y: x * y)"
   ]
  },
  {
   "cell_type": "code",
   "execution_count": 22,
   "metadata": {},
   "outputs": [
    {
     "data": {
      "text/plain": [
       "120"
      ]
     },
     "execution_count": 22,
     "metadata": {},
     "output_type": "execute_result"
    }
   ],
   "source": [
    "factorial(5)"
   ]
  }
 ],
 "metadata": {
  "kernelspec": {
   "display_name": "pyspark_env",
   "language": "python",
   "name": "python3"
  },
  "language_info": {
   "codemirror_mode": {
    "name": "ipython",
    "version": 3
   },
   "file_extension": ".py",
   "mimetype": "text/x-python",
   "name": "python",
   "nbconvert_exporter": "python",
   "pygments_lexer": "ipython3",
   "version": "3.9.20"
  }
 },
 "nbformat": 4,
 "nbformat_minor": 2
}
